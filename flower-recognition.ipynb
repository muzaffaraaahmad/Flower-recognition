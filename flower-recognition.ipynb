{
 "cells": [
  {
   "cell_type": "markdown",
   "metadata": {
    "id": "ZyEMlOIBYwKf"
   },
   "source": [
    "# dependencies"
   ]
  },
  {
   "cell_type": "code",
   "execution_count": 1,
   "metadata": {
    "executionInfo": {
     "elapsed": 4840,
     "status": "ok",
     "timestamp": 1683093189525,
     "user": {
      "displayName": "Muzaffar Nissar",
      "userId": "09920201023614006841"
     },
     "user_tz": -330
    },
    "id": "Karbk1ZsJMTO"
   },
   "outputs": [],
   "source": [
    "import tensorflow as tf\n",
    "import tensorflow_datasets as tfds\n",
    "from tensorflow.keras.utils import to_categorical\n",
    "import numpy as np\n",
    "import os\n",
    "import PIL\n",
    "import PIL.Image"
   ]
  },
  {
   "cell_type": "markdown",
   "metadata": {
    "id": "QGM-KIT_Y0JH"
   },
   "source": [
    "# download dataset"
   ]
  },
  {
   "cell_type": "code",
   "execution_count": 2,
   "metadata": {
    "colab": {
     "base_uri": "https://localhost:8080/",
     "height": 105,
     "referenced_widgets": [
      "6cf3028bfc454d658c7e549a7bff1831",
      "d633e70130d84cd3a7a34e4f74919593",
      "ba10ddc15cdd4ec7b3306b017735ddb2",
      "c6c9721c6a45438cbeebee013c2ea1dd",
      "536c85f90fa64dbea91eaacda5179cf5",
      "be54faf859e44efe87c3aa9b3ed1bc52",
      "d4aad914581448dd9d92e741ce99bffd",
      "ffeed209f6974271bc502250643521dd",
      "f3043fa37404499a8973dc24ac4b9575",
      "cf2ea544c5bd47378963c176535f1a1e",
      "7bb149eeebc34767b049a1c0351513b6"
     ]
    },
    "executionInfo": {
     "elapsed": 30529,
     "status": "ok",
     "timestamp": 1683093225682,
     "user": {
      "displayName": "Muzaffar Nissar",
      "userId": "09920201023614006841"
     },
     "user_tz": -330
    },
    "id": "tZuxJqUgJhLP",
    "outputId": "00aab3cd-1196-4b99-a15e-52e4af1f174e"
   },
   "outputs": [
    {
     "name": "stdout",
     "output_type": "stream",
     "text": [
      "Downloading and preparing dataset Unknown size (download: Unknown size, generated: Unknown size, total: Unknown size) to /root/tensorflow_datasets/tf_flowers/3.0.1...\n"
     ]
    },
    {
     "data": {
      "application/vnd.jupyter.widget-view+json": {
       "model_id": "6cf3028bfc454d658c7e549a7bff1831",
       "version_major": 2,
       "version_minor": 0
      },
      "text/plain": [
       "Dl Completed...:   0%|          | 0/5 [00:00<?, ? file/s]"
      ]
     },
     "metadata": {},
     "output_type": "display_data"
    },
    {
     "name": "stdout",
     "output_type": "stream",
     "text": [
      "Dataset tf_flowers downloaded and prepared to /root/tensorflow_datasets/tf_flowers/3.0.1. Subsequent calls will reuse this data.\n"
     ]
    }
   ],
   "source": [
    "## Loading images and labels\n",
    "(train_ds, train_labels), (test_ds, test_labels) = tfds.load(\n",
    "\"tf_flowers\",\n",
    "split=[\"train[:70%]\", \"train[:30%]\"], ## Train test split\n",
    "batch_size=-1,\n",
    "as_supervised=True, \n",
    "# Include labels\n",
    ")"
   ]
  },
  {
   "cell_type": "markdown",
   "metadata": {
    "id": "USZExdIyY4UA"
   },
   "source": [
    "# resize images"
   ]
  },
  {
   "cell_type": "code",
   "execution_count": 3,
   "metadata": {
    "executionInfo": {
     "elapsed": 1734,
     "status": "ok",
     "timestamp": 1683093243195,
     "user": {
      "displayName": "Muzaffar Nissar",
      "userId": "09920201023614006841"
     },
     "user_tz": -330
    },
    "id": "SYpEPUq2Jltl"
   },
   "outputs": [],
   "source": [
    "## Resizing images\n",
    "train_ds = tf.image.resize(train_ds, (150, 150))\n",
    "test_ds = tf.image.resize(test_ds, (150, 150))"
   ]
  },
  {
   "cell_type": "markdown",
   "metadata": {
    "id": "mUm2X8V-Y9Cu"
   },
   "source": []
  },
  {
   "cell_type": "code",
   "execution_count": 4,
   "metadata": {
    "executionInfo": {
     "elapsed": 3,
     "status": "ok",
     "timestamp": 1683093246252,
     "user": {
      "displayName": "Muzaffar Nissar",
      "userId": "09920201023614006841"
     },
     "user_tz": -330
    },
    "id": "iiSwAO9PJt2X"
   },
   "outputs": [],
   "source": [
    "## Transforming labels to correct format\n",
    "train_labels = to_categorical(train_labels, num_classes=5)\n",
    "test_labels = to_categorical(test_labels, num_classes=5)"
   ]
  },
  {
   "cell_type": "markdown",
   "metadata": {
    "id": "6H9Ws3axZB0U"
   },
   "source": [
    "# import pre_prainded model"
   ]
  },
  {
   "cell_type": "code",
   "execution_count": 5,
   "metadata": {
    "colab": {
     "base_uri": "https://localhost:8080/"
    },
    "executionInfo": {
     "elapsed": 4200,
     "status": "ok",
     "timestamp": 1683093269034,
     "user": {
      "displayName": "Muzaffar Nissar",
      "userId": "09920201023614006841"
     },
     "user_tz": -330
    },
    "id": "TfhbbDr9JyFQ",
    "outputId": "2a7f31a5-75ba-41b7-b55a-a3724c4297e2"
   },
   "outputs": [
    {
     "name": "stdout",
     "output_type": "stream",
     "text": [
      "Downloading data from https://storage.googleapis.com/tensorflow/keras-applications/vgg16/vgg16_weights_tf_dim_ordering_tf_kernels_notop.h5\n",
      "58889256/58889256 [==============================] - 4s 0us/step\n"
     ]
    }
   ],
   "source": [
    "from tensorflow.keras.applications.vgg16 import VGG16\n",
    "from tensorflow.keras.applications.vgg16 import preprocess_input\n",
    "\n",
    "\n",
    "## Loading VGG16 model\n",
    "base_model = VGG16(weights=\"imagenet\", include_top=False, input_shape=train_ds[0].shape)\n",
    "base_model.trainable = False ## Not trainable weights\n",
    "\n",
    "\n",
    "## Preprocessing input\n",
    "train_ds = preprocess_input(train_ds)\n",
    "test_ds = preprocess_input(test_ds)"
   ]
  },
  {
   "cell_type": "code",
   "execution_count": 6,
   "metadata": {
    "colab": {
     "base_uri": "https://localhost:8080/"
    },
    "executionInfo": {
     "elapsed": 1000,
     "status": "ok",
     "timestamp": 1683093275634,
     "user": {
      "displayName": "Muzaffar Nissar",
      "userId": "09920201023614006841"
     },
     "user_tz": -330
    },
    "id": "uy3HNrSaJyJT",
    "outputId": "af92a6e4-92e5-44bf-9193-a2a9c7849cec"
   },
   "outputs": [
    {
     "name": "stdout",
     "output_type": "stream",
     "text": [
      "Model: \"vgg16\"\n",
      "_________________________________________________________________\n",
      " Layer (type)                Output Shape              Param #   \n",
      "=================================================================\n",
      " input_1 (InputLayer)        [(None, 150, 150, 3)]     0         \n",
      "                                                                 \n",
      " block1_conv1 (Conv2D)       (None, 150, 150, 64)      1792      \n",
      "                                                                 \n",
      " block1_conv2 (Conv2D)       (None, 150, 150, 64)      36928     \n",
      "                                                                 \n",
      " block1_pool (MaxPooling2D)  (None, 75, 75, 64)        0         \n",
      "                                                                 \n",
      " block2_conv1 (Conv2D)       (None, 75, 75, 128)       73856     \n",
      "                                                                 \n",
      " block2_conv2 (Conv2D)       (None, 75, 75, 128)       147584    \n",
      "                                                                 \n",
      " block2_pool (MaxPooling2D)  (None, 37, 37, 128)       0         \n",
      "                                                                 \n",
      " block3_conv1 (Conv2D)       (None, 37, 37, 256)       295168    \n",
      "                                                                 \n",
      " block3_conv2 (Conv2D)       (None, 37, 37, 256)       590080    \n",
      "                                                                 \n",
      " block3_conv3 (Conv2D)       (None, 37, 37, 256)       590080    \n",
      "                                                                 \n",
      " block3_pool (MaxPooling2D)  (None, 18, 18, 256)       0         \n",
      "                                                                 \n",
      " block4_conv1 (Conv2D)       (None, 18, 18, 512)       1180160   \n",
      "                                                                 \n",
      " block4_conv2 (Conv2D)       (None, 18, 18, 512)       2359808   \n",
      "                                                                 \n",
      " block4_conv3 (Conv2D)       (None, 18, 18, 512)       2359808   \n",
      "                                                                 \n",
      " block4_pool (MaxPooling2D)  (None, 9, 9, 512)         0         \n",
      "                                                                 \n",
      " block5_conv1 (Conv2D)       (None, 9, 9, 512)         2359808   \n",
      "                                                                 \n",
      " block5_conv2 (Conv2D)       (None, 9, 9, 512)         2359808   \n",
      "                                                                 \n",
      " block5_conv3 (Conv2D)       (None, 9, 9, 512)         2359808   \n",
      "                                                                 \n",
      " block5_pool (MaxPooling2D)  (None, 4, 4, 512)         0         \n",
      "                                                                 \n",
      "=================================================================\n",
      "Total params: 14,714,688\n",
      "Trainable params: 0\n",
      "Non-trainable params: 14,714,688\n",
      "_________________________________________________________________\n"
     ]
    }
   ],
   "source": [
    "base_model.summary()"
   ]
  },
  {
   "cell_type": "markdown",
   "metadata": {
    "id": "PZ5C2BFDKisI"
   },
   "source": [
    "# Add dense layers specific problem"
   ]
  },
  {
   "cell_type": "code",
   "execution_count": 7,
   "metadata": {
    "executionInfo": {
     "elapsed": 1081,
     "status": "ok",
     "timestamp": 1683093279798,
     "user": {
      "displayName": "Muzaffar Nissar",
      "userId": "09920201023614006841"
     },
     "user_tz": -330
    },
    "id": "bl7d38dpJyMM"
   },
   "outputs": [],
   "source": [
    "from tensorflow.keras import layers, models\n",
    "flatten_layer = layers.Flatten()\n",
    "dense_layer_1 = layers.Dense(50, activation='relu')\n",
    "dense_layer_2 = layers.Dense(20, activation='relu')\n",
    "prediction_layer = layers.Dense(5, activation='softmax')\n",
    "\n",
    "\n",
    "model = models.Sequential([\n",
    "base_model,\n",
    "flatten_layer,\n",
    "dense_layer_1,\n",
    "dense_layer_2,\n",
    "prediction_layer\n",
    "])"
   ]
  },
  {
   "cell_type": "markdown",
   "metadata": {
    "id": "cX97zf9hZH_b"
   },
   "source": [
    "# compile and fit"
   ]
  },
  {
   "cell_type": "code",
   "execution_count": 9,
   "metadata": {
    "colab": {
     "base_uri": "https://localhost:8080/"
    },
    "executionInfo": {
     "elapsed": 203794,
     "status": "ok",
     "timestamp": 1683093505848,
     "user": {
      "displayName": "Muzaffar Nissar",
      "userId": "09920201023614006841"
     },
     "user_tz": -330
    },
    "id": "vZ5bmEjKJyOl",
    "outputId": "38834ec5-aaa4-4caf-cf22-82a85896b86b"
   },
   "outputs": [
    {
     "name": "stdout",
     "output_type": "stream",
     "text": [
      "Epoch 1/30\n",
      "65/65 [==============================] - 9s 110ms/step - loss: 1.6373 - accuracy: 0.3713 - val_loss: 1.2792 - val_accuracy: 0.4416\n",
      "Epoch 2/30\n",
      "65/65 [==============================] - 5s 80ms/step - loss: 1.2271 - accuracy: 0.5260 - val_loss: 1.1495 - val_accuracy: 0.5467\n",
      "Epoch 3/30\n",
      "65/65 [==============================] - 5s 81ms/step - loss: 1.0037 - accuracy: 0.6185 - val_loss: 1.2034 - val_accuracy: 0.5467\n",
      "Epoch 4/30\n",
      "65/65 [==============================] - 5s 84ms/step - loss: 0.8968 - accuracy: 0.6808 - val_loss: 1.2138 - val_accuracy: 0.5973\n",
      "Epoch 5/30\n",
      "65/65 [==============================] - 5s 85ms/step - loss: 0.7518 - accuracy: 0.7207 - val_loss: 1.0117 - val_accuracy: 0.6187\n",
      "Epoch 6/30\n",
      "65/65 [==============================] - 5s 81ms/step - loss: 0.6236 - accuracy: 0.7708 - val_loss: 1.1066 - val_accuracy: 0.6615\n",
      "Epoch 7/30\n",
      "65/65 [==============================] - 6s 85ms/step - loss: 0.5084 - accuracy: 0.7971 - val_loss: 1.0571 - val_accuracy: 0.6498\n",
      "Epoch 8/30\n",
      "65/65 [==============================] - 5s 83ms/step - loss: 0.4779 - accuracy: 0.8170 - val_loss: 1.2524 - val_accuracy: 0.6401\n",
      "Epoch 9/30\n",
      "65/65 [==============================] - 6s 85ms/step - loss: 0.3261 - accuracy: 0.8637 - val_loss: 1.3536 - val_accuracy: 0.6595\n",
      "Epoch 10/30\n",
      "65/65 [==============================] - 6s 87ms/step - loss: 0.2863 - accuracy: 0.8832 - val_loss: 1.3698 - val_accuracy: 0.6887\n",
      "Epoch 11/30\n",
      "65/65 [==============================] - 6s 87ms/step - loss: 0.2950 - accuracy: 0.8842 - val_loss: 1.2648 - val_accuracy: 0.6946\n",
      "Epoch 12/30\n",
      "65/65 [==============================] - 6s 88ms/step - loss: 0.2068 - accuracy: 0.9168 - val_loss: 1.4233 - val_accuracy: 0.6984\n",
      "Epoch 13/30\n",
      "65/65 [==============================] - 6s 87ms/step - loss: 0.1546 - accuracy: 0.9328 - val_loss: 1.4837 - val_accuracy: 0.7004\n",
      "Epoch 14/30\n",
      "65/65 [==============================] - 6s 88ms/step - loss: 0.1193 - accuracy: 0.9509 - val_loss: 1.4677 - val_accuracy: 0.6868\n",
      "Epoch 15/30\n",
      "65/65 [==============================] - 5s 84ms/step - loss: 0.0990 - accuracy: 0.9557 - val_loss: 1.6267 - val_accuracy: 0.6926\n",
      "Epoch 16/30\n",
      "65/65 [==============================] - 6s 89ms/step - loss: 0.1011 - accuracy: 0.9625 - val_loss: 1.5797 - val_accuracy: 0.7023\n",
      "Epoch 17/30\n",
      "65/65 [==============================] - 5s 84ms/step - loss: 0.0655 - accuracy: 0.9732 - val_loss: 1.5089 - val_accuracy: 0.7062\n",
      "Epoch 18/30\n",
      "65/65 [==============================] - 6s 86ms/step - loss: 0.0579 - accuracy: 0.9747 - val_loss: 1.4991 - val_accuracy: 0.7082\n",
      "Epoch 19/30\n",
      "65/65 [==============================] - 6s 87ms/step - loss: 0.0451 - accuracy: 0.9800 - val_loss: 1.6860 - val_accuracy: 0.7179\n",
      "Epoch 20/30\n",
      "65/65 [==============================] - 5s 83ms/step - loss: 0.0411 - accuracy: 0.9825 - val_loss: 1.6765 - val_accuracy: 0.7043\n",
      "Epoch 21/30\n",
      "65/65 [==============================] - 6s 87ms/step - loss: 0.0341 - accuracy: 0.9839 - val_loss: 1.7318 - val_accuracy: 0.7179\n",
      "Epoch 22/30\n",
      "65/65 [==============================] - 6s 86ms/step - loss: 0.0317 - accuracy: 0.9839 - val_loss: 1.8330 - val_accuracy: 0.7121\n",
      "Epoch 23/30\n",
      "65/65 [==============================] - 6s 87ms/step - loss: 0.0352 - accuracy: 0.9849 - val_loss: 1.7908 - val_accuracy: 0.7082\n",
      "Epoch 24/30\n",
      "65/65 [==============================] - 6s 86ms/step - loss: 0.0661 - accuracy: 0.9757 - val_loss: 1.8722 - val_accuracy: 0.7023\n",
      "Epoch 25/30\n",
      "65/65 [==============================] - 5s 83ms/step - loss: 0.0729 - accuracy: 0.9703 - val_loss: 1.9446 - val_accuracy: 0.6848\n",
      "Epoch 26/30\n",
      "65/65 [==============================] - 6s 87ms/step - loss: 0.1114 - accuracy: 0.9650 - val_loss: 2.3617 - val_accuracy: 0.6926\n",
      "Epoch 27/30\n",
      "65/65 [==============================] - 6s 87ms/step - loss: 0.1495 - accuracy: 0.9518 - val_loss: 2.2849 - val_accuracy: 0.6984\n",
      "Epoch 28/30\n",
      "65/65 [==============================] - 6s 87ms/step - loss: 0.1107 - accuracy: 0.9655 - val_loss: 2.1676 - val_accuracy: 0.7023\n",
      "Epoch 29/30\n",
      "65/65 [==============================] - 6s 88ms/step - loss: 0.0615 - accuracy: 0.9766 - val_loss: 2.2512 - val_accuracy: 0.6965\n",
      "Epoch 30/30\n",
      "65/65 [==============================] - 6s 87ms/step - loss: 0.0629 - accuracy: 0.9781 - val_loss: 2.3376 - val_accuracy: 0.6984\n"
     ]
    }
   ],
   "source": [
    "#Compile and Fit\n",
    "from tensorflow.keras.callbacks import EarlyStopping\n",
    "model.compile(\n",
    "optimizer='adam',\n",
    "loss='categorical_crossentropy',\n",
    "metrics=['accuracy'],\n",
    ")\n",
    "\n",
    "es = EarlyStopping(monitor='val_accuracy', mode='max', patience=5, restore_best_weights=True,start_from_epoch=0)\n",
    "                   \n",
    "history=model.fit(train_ds, train_labels, epochs=30, validation_split=0.2, batch_size=32, callbacks=None)"
   ]
  },
  {
   "cell_type": "markdown",
   "metadata": {
    "id": "6tr7NRdwLqVw"
   },
   "source": [
    "# Exercise 1 : (i) Plot the training and validation accuracy "
   ]
  },
  {
   "cell_type": "code",
   "execution_count": 10,
   "metadata": {
    "colab": {
     "base_uri": "https://localhost:8080/",
     "height": 472
    },
    "executionInfo": {
     "elapsed": 955,
     "status": "ok",
     "timestamp": 1683093519252,
     "user": {
      "displayName": "Muzaffar Nissar",
      "userId": "09920201023614006841"
     },
     "user_tz": -330
    },
    "id": "-WoPkMvFJyTa",
    "outputId": "769ce84b-8d35-43d7-a5d2-b7f50d3630fc"
   },
   "outputs": [
    {
     "data": {
      "image/png": "[encoded data removed]",
      "text/plain": [
       "<Figure size 640x480 with 1 Axes>"
      ]
     },
     "metadata": {},
     "output_type": "display_data"
    }
   ],
   "source": [
    "import keras\n",
    "from matplotlib import pyplot as plt\n",
    "plt.plot(history.history['accuracy'])\n",
    "plt.plot(history.history['val_accuracy'])\n",
    "plt.title('model accuracy')\n",
    "plt.ylabel('accuracy')\n",
    "plt.xlabel('epoch')\n",
    "plt.legend(['train', 'val'], loc='upper left')\n",
    "plt.show()"
   ]
  },
  {
   "cell_type": "code",
   "execution_count": 11,
   "metadata": {
    "colab": {
     "base_uri": "https://localhost:8080/",
     "height": 472
    },
    "executionInfo": {
     "elapsed": 1508,
     "status": "ok",
     "timestamp": 1683093526837,
     "user": {
      "displayName": "Muzaffar Nissar",
      "userId": "09920201023614006841"
     },
     "user_tz": -330
    },
    "id": "hp9qvBgMJyWQ",
    "outputId": "55d7353c-f080-41b6-c473-7f52e0b84852"
   },
   "outputs": [
    {
     "data": {
      "image/png": "[encoded data removed]",
      "text/plain": [
       "<Figure size 640x480 with 1 Axes>"
      ]
     },
     "metadata": {},
     "output_type": "display_data"
    }
   ],
   "source": [
    "plt.plot(history.history['loss'])\n",
    "plt.plot(history.history['val_loss'])\n",
    "plt.title('model loss')\n",
    "plt.ylabel('loss')\n",
    "plt.xlabel('epoch')\n",
    "plt.legend(['train', 'val'], loc='upper left')\n",
    "plt.show()"
   ]
  },
  {
   "cell_type": "markdown",
   "metadata": {
    "id": "SwfykbM_qjOm"
   },
   "source": [
    "\n",
    "## prediction\n"
   ]
  },
  {
   "cell_type": "code",
   "execution_count": 12,
   "metadata": {
    "colab": {
     "base_uri": "https://localhost:8080/"
    },
    "executionInfo": {
     "elapsed": 5592,
     "status": "ok",
     "timestamp": 1683093569641,
     "user": {
      "displayName": "Muzaffar Nissar",
      "userId": "09920201023614006841"
     },
     "user_tz": -330
    },
    "id": "OFs_awLcq8Ps",
    "outputId": "4955335d-c9db-4504-95cb-4c3a8c4538a8"
   },
   "outputs": [
    {
     "name": "stdout",
     "output_type": "stream",
     "text": [
      "35/35 [==============================] - 4s 97ms/step\n"
     ]
    }
   ],
   "source": [
    " #getting predictions on val set.\n",
    "pred=model.predict(test_ds)\n",
    "pred_digits=np.argmax(pred,axis=1) #we are making pred as a array of numbers"
   ]
  },
  {
   "cell_type": "code",
   "execution_count": 33,
   "metadata": {
    "colab": {
     "base_uri": "https://localhost:8080/"
    },
    "executionInfo": {
     "elapsed": 3,
     "status": "ok",
     "timestamp": 1683095272177,
     "user": {
      "displayName": "Muzaffar Nissar",
      "userId": "09920201023614006841"
     },
     "user_tz": -330
    },
    "id": "AG4JOliYQ9po",
    "outputId": "6cae12d2-b715-4d90-f13c-84d940bb5d38"
   },
   "outputs": [
    {
     "data": {
      "text/plain": [
       "(1101, 5)"
      ]
     },
     "execution_count": 33,
     "metadata": {},
     "output_type": "execute_result"
    }
   ],
   "source": [
    "pred.shape"
   ]
  },
  {
   "cell_type": "code",
   "execution_count": 24,
   "metadata": {
    "colab": {
     "base_uri": "https://localhost:8080/"
    },
    "executionInfo": {
     "elapsed": 2,
     "status": "ok",
     "timestamp": 1683094780469,
     "user": {
      "displayName": "Muzaffar Nissar",
      "userId": "09920201023614006841"
     },
     "user_tz": -330
    },
    "id": "qOAwxPUIRA0J",
    "outputId": "6bef68be-e706-4fa4-f266-27ad2efaaec3"
   },
   "outputs": [
    {
     "data": {
      "text/plain": [
       "array([2, 3, 3, ..., 2, 4, 2])"
      ]
     },
     "execution_count": 24,
     "metadata": {},
     "output_type": "execute_result"
    }
   ],
   "source": [
    "pred_digits"
   ]
  },
  {
   "cell_type": "markdown",
   "metadata": {
    "id": "XXIZ1x8sZgsd"
   },
   "source": [
    "# make test_labels also array of numbers"
   ]
  },
  {
   "cell_type": "code",
   "execution_count": 35,
   "metadata": {
    "executionInfo": {
     "elapsed": 3,
     "status": "ok",
     "timestamp": 1683095402631,
     "user": {
      "displayName": "Muzaffar Nissar",
      "userId": "09920201023614006841"
     },
     "user_tz": -330
    },
    "id": "7dplNTGvRIHj"
   },
   "outputs": [],
   "source": [
    "test_labels_digits = np.argmax(test_labels,axis=1)"
   ]
  },
  {
   "cell_type": "code",
   "execution_count": 36,
   "metadata": {
    "colab": {
     "base_uri": "https://localhost:8080/"
    },
    "executionInfo": {
     "elapsed": 3,
     "status": "ok",
     "timestamp": 1683095418300,
     "user": {
      "displayName": "Muzaffar Nissar",
      "userId": "09920201023614006841"
     },
     "user_tz": -330
    },
    "id": "yzZ6-VRcTdJo",
    "outputId": "61912277-7c90-4255-d7ff-573aa8a7124a"
   },
   "outputs": [
    {
     "data": {
      "text/plain": [
       "array([2, 3, 3, ..., 2, 4, 2])"
      ]
     },
     "execution_count": 36,
     "metadata": {},
     "output_type": "execute_result"
    }
   ],
   "source": [
    "test_labels_digits"
   ]
  },
  {
   "cell_type": "markdown",
   "metadata": {
    "id": "yuc9YC8pZr5F"
   },
   "source": [
    "# (ii)classification report"
   ]
  },
  {
   "cell_type": "code",
   "execution_count": 37,
   "metadata": {
    "colab": {
     "base_uri": "https://localhost:8080/"
    },
    "executionInfo": {
     "elapsed": 972,
     "status": "ok",
     "timestamp": 1683095444122,
     "user": {
      "displayName": "Muzaffar Nissar",
      "userId": "09920201023614006841"
     },
     "user_tz": -330
    },
    "id": "aH2Oq1zrNL8E",
    "outputId": "f7d4fcce-8372-4a63-9594-c9545b53ac8a"
   },
   "outputs": [
    {
     "name": "stdout",
     "output_type": "stream",
     "text": [
      "Classification Report: \n",
      "               precision    recall  f1-score   support\n",
      "\n",
      "           0       0.99      1.00      0.99       287\n",
      "           1       0.98      0.98      0.98       187\n",
      "           2       0.98      0.99      0.99       238\n",
      "           3       1.00      0.99      0.99       191\n",
      "           4       0.99      0.98      0.99       198\n",
      "\n",
      "    accuracy                           0.99      1101\n",
      "   macro avg       0.99      0.99      0.99      1101\n",
      "weighted avg       0.99      0.99      0.99      1101\n",
      "\n"
     ]
    }
   ],
   "source": [
    "from sklearn.metrics import confusion_matrix , classification_report\n",
    "import numpy as np\n",
    "#y_pred = ann.predict(X_test)\n",
    "#y_pred_classes = [np.argmax(element) for element in pred]\n",
    "\n",
    "print(\"Classification Report: \\n\", classification_report(test_labels_digits, pred_digits))\n"
   ]
  },
  {
   "cell_type": "markdown",
   "metadata": {
    "id": "7uEmd6upq850"
   },
   "source": [
    "# (ii) and Confusion matrix "
   ]
  },
  {
   "cell_type": "code",
   "execution_count": 45,
   "metadata": {
    "executionInfo": {
     "elapsed": 2,
     "status": "ok",
     "timestamp": 1683095801485,
     "user": {
      "displayName": "Muzaffar Nissar",
      "userId": "09920201023614006841"
     },
     "user_tz": -330
    },
    "id": "AwkTGcK6U6c_"
   },
   "outputs": [],
   "source": [
    "from matplotlib import pyplot as plt\n",
    "from sklearn.metrics import confusion_matrix , classification_report\n",
    "import pandas as pd\n",
    "import seaborn as sns"
   ]
  },
  {
   "cell_type": "code",
   "execution_count": 49,
   "metadata": {
    "colab": {
     "base_uri": "https://localhost:8080/"
    },
    "executionInfo": {
     "elapsed": 15,
     "status": "ok",
     "timestamp": 1683096152199,
     "user": {
      "displayName": "Muzaffar Nissar",
      "userId": "09920201023614006841"
     },
     "user_tz": -330
    },
    "id": "MqwYrVFCWPFT",
    "outputId": "8c4a318f-b1d1-45e1-e43a-f92ba125b594"
   },
   "outputs": [
    {
     "data": {
      "text/plain": [
       "array([[286,   0,   1,   0,   0],\n",
       "       [  2, 184,   1,   0,   0],\n",
       "       [  0,   1, 236,   0,   1],\n",
       "       [  1,   0,   1, 189,   0],\n",
       "       [  0,   2,   1,   0, 195]])"
      ]
     },
     "execution_count": 49,
     "metadata": {},
     "output_type": "execute_result"
    }
   ],
   "source": [
    "cm = confusion_matrix(test_labels_digits, pred_digits)\n",
    "cm"
   ]
  },
  {
   "cell_type": "code",
   "execution_count": 56,
   "metadata": {
    "executionInfo": {
     "elapsed": 3,
     "status": "ok",
     "timestamp": 1683096516523,
     "user": {
      "displayName": "Muzaffar Nissar",
      "userId": "09920201023614006841"
     },
     "user_tz": -330
    },
    "id": "Kf72vqxjXiEh"
   },
   "outputs": [],
   "source": [
    "cm_df = pd.DataFrame(cm,\n",
    "                     index= ['daisy', 'dandelion', 'rose', 'sunflower', 'tulip'],\n",
    "                     columns=['daisy', 'dandelion', 'rose', 'sunflower', 'tulip'])"
   ]
  },
  {
   "cell_type": "code",
   "execution_count": 58,
   "metadata": {
    "colab": {
     "base_uri": "https://localhost:8080/",
     "height": 410
    },
    "executionInfo": {
     "elapsed": 1023,
     "status": "ok",
     "timestamp": 1683096776819,
     "user": {
      "displayName": "Muzaffar Nissar",
      "userId": "09920201023614006841"
     },
     "user_tz": -330
    },
    "id": "mFH3Q6FgXad_",
    "outputId": "cf4f9397-1ccd-4039-c1c6-15b699473758"
   },
   "outputs": [
    {
     "data": {
      "image/png": "[encoded data removed]",
      "text/plain": [
       "<Figure size 500x400 with 2 Axes>"
      ]
     },
     "metadata": {},
     "output_type": "display_data"
    }
   ],
   "source": [
    "#Plotting the confusion matrix\n",
    "plt.figure(figsize=(5,4))\n",
    "sns.heatmap(cm_df, fmt=\"d\",annot=True)\n",
    "plt.title('Confusion Matrix')\n",
    "plt.ylabel('Actal Values')\n",
    "plt.xlabel('Predicted Values')\n",
    "plt.show()"
   ]
  }
 ],
 "metadata": {
  "accelerator": "GPU",
  "colab": {
   "authorship_tag": "ABX9TyPNCrHi0nRcq59RHkK0j7vj",
   "provenance": []
  },
  "gpuClass": "standard",
  "kernelspec": {
   "display_name": "Python 3 (ipykernel)",
   "language": "python",
   "name": "python3"
  },
  "language_info": {
   "codemirror_mode": {
    "name": "ipython",
    "version": 3
   },
   "file_extension": ".py",
   "mimetype": "text/x-python",
   "name": "python",
   "nbconvert_exporter": "python",
   "pygments_lexer": "ipython3",
   "version": "3.9.7"
  },
  "widgets": {
   "application/vnd.jupyter.widget-state+json": {
    "536c85f90fa64dbea91eaacda5179cf5": {
     "model_module": "@jupyter-widgets/base",
     "model_module_version": "1.2.0",
     "model_name": "LayoutModel",
     "state": {
      "_model_module": "@jupyter-widgets/base",
      "_model_module_version": "1.2.0",
      "_model_name": "LayoutModel",
      "_view_count": null,
      "_view_module": "@jupyter-widgets/base",
      "_view_module_version": "1.2.0",
      "_view_name": "LayoutView",
      "align_content": null,
      "align_items": null,
      "align_self": null,
      "border": null,
      "bottom": null,
      "display": null,
      "flex": null,
      "flex_flow": null,
      "grid_area": null,
      "grid_auto_columns": null,
      "grid_auto_flow": null,
      "grid_auto_rows": null,
      "grid_column": null,
      "grid_gap": null,
      "grid_row": null,
      "grid_template_areas": null,
      "grid_template_columns": null,
      "grid_template_rows": null,
      "height": null,
      "justify_content": null,
      "justify_items": null,
      "left": null,
      "margin": null,
      "max_height": null,
      "max_width": null,
      "min_height": null,
      "min_width": null,
      "object_fit": null,
      "object_position": null,
      "order": null,
      "overflow": null,
      "overflow_x": null,
      "overflow_y": null,
      "padding": null,
      "right": null,
      "top": null,
      "visibility": null,
      "width": null
     }
    },
    "6cf3028bfc454d658c7e549a7bff1831": {
     "model_module": "@jupyter-widgets/controls",
     "model_module_version": "1.5.0",
     "model_name": "HBoxModel",
     "state": {
      "_dom_classes": [],
      "_model_module": "@jupyter-widgets/controls",
      "_model_module_version": "1.5.0",
      "_model_name": "HBoxModel",
      "_view_count": null,
      "_view_module": "@jupyter-widgets/controls",
      "_view_module_version": "1.5.0",
      "_view_name": "HBoxView",
      "box_style": "",
      "children": [
       "IPY_MODEL_d633e70130d84cd3a7a34e4f74919593",
       "IPY_MODEL_ba10ddc15cdd4ec7b3306b017735ddb2",
       "IPY_MODEL_c6c9721c6a45438cbeebee013c2ea1dd"
      ],
      "layout": "IPY_MODEL_536c85f90fa64dbea91eaacda5179cf5"
     }
    },
    "7bb149eeebc34767b049a1c0351513b6": {
     "model_module": "@jupyter-widgets/controls",
     "model_module_version": "1.5.0",
     "model_name": "DescriptionStyleModel",
     "state": {
      "_model_module": "@jupyter-widgets/controls",
      "_model_module_version": "1.5.0",
      "_model_name": "DescriptionStyleModel",
      "_view_count": null,
      "_view_module": "@jupyter-widgets/base",
      "_view_module_version": "1.2.0",
      "_view_name": "StyleView",
      "description_width": ""
     }
    },
    "ba10ddc15cdd4ec7b3306b017735ddb2": {
     "model_module": "@jupyter-widgets/controls",
     "model_module_version": "1.5.0",
     "model_name": "FloatProgressModel",
     "state": {
      "_dom_classes": [],
      "_model_module": "@jupyter-widgets/controls",
      "_model_module_version": "1.5.0",
      "_model_name": "FloatProgressModel",
      "_view_count": null,
      "_view_module": "@jupyter-widgets/controls",
      "_view_module_version": "1.5.0",
      "_view_name": "ProgressView",
      "bar_style": "success",
      "description": "",
      "description_tooltip": null,
      "layout": "IPY_MODEL_ffeed209f6974271bc502250643521dd",
      "max": 5,
      "min": 0,
      "orientation": "horizontal",
      "style": "IPY_MODEL_f3043fa37404499a8973dc24ac4b9575",
      "value": 5
     }
    },
    "be54faf859e44efe87c3aa9b3ed1bc52": {
     "model_module": "@jupyter-widgets/base",
     "model_module_version": "1.2.0",
     "model_name": "LayoutModel",
     "state": {
      "_model_module": "@jupyter-widgets/base",
      "_model_module_version": "1.2.0",
      "_model_name": "LayoutModel",
      "_view_count": null,
      "_view_module": "@jupyter-widgets/base",
      "_view_module_version": "1.2.0",
      "_view_name": "LayoutView",
      "align_content": null,
      "align_items": null,
      "align_self": null,
      "border": null,
      "bottom": null,
      "display": null,
      "flex": null,
      "flex_flow": null,
      "grid_area": null,
      "grid_auto_columns": null,
      "grid_auto_flow": null,
      "grid_auto_rows": null,
      "grid_column": null,
      "grid_gap": null,
      "grid_row": null,
      "grid_template_areas": null,
      "grid_template_columns": null,
      "grid_template_rows": null,
      "height": null,
      "justify_content": null,
      "justify_items": null,
      "left": null,
      "margin": null,
      "max_height": null,
      "max_width": null,
      "min_height": null,
      "min_width": null,
      "object_fit": null,
      "object_position": null,
      "order": null,
      "overflow": null,
      "overflow_x": null,
      "overflow_y": null,
      "padding": null,
      "right": null,
      "top": null,
      "visibility": null,
      "width": null
     }
    },
    "c6c9721c6a45438cbeebee013c2ea1dd": {
     "model_module": "@jupyter-widgets/controls",
     "model_module_version": "1.5.0",
     "model_name": "HTMLModel",
     "state": {
      "_dom_classes": [],
      "_model_module": "@jupyter-widgets/controls",
      "_model_module_version": "1.5.0",
      "_model_name": "HTMLModel",
      "_view_count": null,
      "_view_module": "@jupyter-widgets/controls",
      "_view_module_version": "1.5.0",
      "_view_name": "HTMLView",
      "description": "",
      "description_tooltip": null,
      "layout": "IPY_MODEL_cf2ea544c5bd47378963c176535f1a1e",
      "placeholder": "​",
      "style": "IPY_MODEL_7bb149eeebc34767b049a1c0351513b6",
      "value": " 5/5 [00:16&lt;00:00,  3.35s/ file]"
     }
    },
    "cf2ea544c5bd47378963c176535f1a1e": {
     "model_module": "@jupyter-widgets/base",
     "model_module_version": "1.2.0",
     "model_name": "LayoutModel",
     "state": {
      "_model_module": "@jupyter-widgets/base",
      "_model_module_version": "1.2.0",
      "_model_name": "LayoutModel",
      "_view_count": null,
      "_view_module": "@jupyter-widgets/base",
      "_view_module_version": "1.2.0",
      "_view_name": "LayoutView",
      "align_content": null,
      "align_items": null,
      "align_self": null,
      "border": null,
      "bottom": null,
      "display": null,
      "flex": null,
      "flex_flow": null,
      "grid_area": null,
      "grid_auto_columns": null,
      "grid_auto_flow": null,
      "grid_auto_rows": null,
      "grid_column": null,
      "grid_gap": null,
      "grid_row": null,
      "grid_template_areas": null,
      "grid_template_columns": null,
      "grid_template_rows": null,
      "height": null,
      "justify_content": null,
      "justify_items": null,
      "left": null,
      "margin": null,
      "max_height": null,
      "max_width": null,
      "min_height": null,
      "min_width": null,
      "object_fit": null,
      "object_position": null,
      "order": null,
      "overflow": null,
      "overflow_x": null,
      "overflow_y": null,
      "padding": null,
      "right": null,
      "top": null,
      "visibility": null,
      "width": null
     }
    },
    "d4aad914581448dd9d92e741ce99bffd": {
     "model_module": "@jupyter-widgets/controls",
     "model_module_version": "1.5.0",
     "model_name": "DescriptionStyleModel",
     "state": {
      "_model_module": "@jupyter-widgets/controls",
      "_model_module_version": "1.5.0",
      "_model_name": "DescriptionStyleModel",
      "_view_count": null,
      "_view_module": "@jupyter-widgets/base",
      "_view_module_version": "1.2.0",
      "_view_name": "StyleView",
      "description_width": ""
     }
    },
    "d633e70130d84cd3a7a34e4f74919593": {
     "model_module": "@jupyter-widgets/controls",
     "model_module_version": "1.5.0",
     "model_name": "HTMLModel",
     "state": {
      "_dom_classes": [],
      "_model_module": "@jupyter-widgets/controls",
      "_model_module_version": "1.5.0",
      "_model_name": "HTMLModel",
      "_view_count": null,
      "_view_module": "@jupyter-widgets/controls",
      "_view_module_version": "1.5.0",
      "_view_name": "HTMLView",
      "description": "",
      "description_tooltip": null,
      "layout": "IPY_MODEL_be54faf859e44efe87c3aa9b3ed1bc52",
      "placeholder": "​",
      "style": "IPY_MODEL_d4aad914581448dd9d92e741ce99bffd",
      "value": "Dl Completed...: 100%"
     }
    },
    "f3043fa37404499a8973dc24ac4b9575": {
     "model_module": "@jupyter-widgets/controls",
     "model_module_version": "1.5.0",
     "model_name": "ProgressStyleModel",
     "state": {
      "_model_module": "@jupyter-widgets/controls",
      "_model_module_version": "1.5.0",
      "_model_name": "ProgressStyleModel",
      "_view_count": null,
      "_view_module": "@jupyter-widgets/base",
      "_view_module_version": "1.2.0",
      "_view_name": "StyleView",
      "bar_color": null,
      "description_width": ""
     }
    },
    "ffeed209f6974271bc502250643521dd": {
     "model_module": "@jupyter-widgets/base",
     "model_module_version": "1.2.0",
     "model_name": "LayoutModel",
     "state": {
      "_model_module": "@jupyter-widgets/base",
      "_model_module_version": "1.2.0",
      "_model_name": "LayoutModel",
      "_view_count": null,
      "_view_module": "@jupyter-widgets/base",
      "_view_module_version": "1.2.0",
      "_view_name": "LayoutView",
      "align_content": null,
      "align_items": null,
      "align_self": null,
      "border": null,
      "bottom": null,
      "display": null,
      "flex": null,
      "flex_flow": null,
      "grid_area": null,
      "grid_auto_columns": null,
      "grid_auto_flow": null,
      "grid_auto_rows": null,
      "grid_column": null,
      "grid_gap": null,
      "grid_row": null,
      "grid_template_areas": null,
      "grid_template_columns": null,
      "grid_template_rows": null,
      "height": null,
      "justify_content": null,
      "justify_items": null,
      "left": null,
      "margin": null,
      "max_height": null,
      "max_width": null,
      "min_height": null,
      "min_width": null,
      "object_fit": null,
      "object_position": null,
      "order": null,
      "overflow": null,
      "overflow_x": null,
      "overflow_y": null,
      "padding": null,
      "right": null,
      "top": null,
      "visibility": null,
      "width": null
     }
    }
   }
  }
 },
 "nbformat": 4,
 "nbformat_minor": 1
}
